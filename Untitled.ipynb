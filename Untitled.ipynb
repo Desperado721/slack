{
 "cells": [
  {
   "cell_type": "code",
   "execution_count": 28,
   "id": "522b480e",
   "metadata": {},
   "outputs": [],
   "source": [
    "import json\n",
    "import argparse\n",
    "import pdb\n",
    "from dataclasses import dataclass, field\n",
    "\n",
    "def load_data(file_name):\n",
    "    with open(file_name) as f:\n",
    "        return json.load(f, encoding='utf-8')\n",
    "\n",
    "@dataclass\n",
    "class Shard(object):\n",
    "#     id: str = field(init=False)\n",
    "    collection: str\n",
    "    shard: str\n",
    "    size: float\n",
    "\n",
    "@dataclass\n",
    "class Node(object):\n",
    "    id: str\n",
    "#     num_id: str = field(init=False)\n",
    "    total_space: float\n",
    "    used_space: float\n",
    "    available_space: float= field(init=False)\n",
    "#     balanced_usage: float= field(init=False)\n",
    "    def __post_init__(self):\n",
    "        \"\"\"\n",
    "        calulate the available spalce of each node\n",
    "        and give id to each shard\n",
    "        \"\"\"\n",
    "        self.available_space = self.total_space - self.used_space"
   ]
  },
  {
   "cell_type": "code",
   "execution_count": 2,
   "id": "13b0ec18",
   "metadata": {},
   "outputs": [],
   "source": [
    "class blancedShardAssigner(object):\n",
    "    def __init__(self, shards, nodes):\n",
    "        \n",
    "        # shards = [shard.update({'id': str(i)}) for  i, shard in enumerate(shards)]\n",
    "        # nodes = [node.update({'num_id': str(i)}) for  i, node in enumerate(nodes)]\n",
    "        # breakpoint()\n",
    "        self.shards = [Shard(**shard) for shard in shards]\n",
    "        self.nodes = [Node(**node) for node in nodes]\n",
    "        breakpoint()\n",
    "        self.unassigned_shards = set(self.shards)\n",
    "        self.num_collections = len(set([shard['collection'] for shard in shards]))\n",
    "        self.unused_nodes = set(self.nodes)\n",
    "        self.dead_nodes = set()\n",
    "        # self.initialize()\n",
    "    "
   ]
  },
  {
   "cell_type": "code",
   "execution_count": 3,
   "id": "c03aed53",
   "metadata": {},
   "outputs": [],
   "source": [
    "shards = load_data('data/shards.json')\n",
    "nodes = load_data('data/nodes.json')"
   ]
  },
  {
   "cell_type": "code",
   "execution_count": 4,
   "id": "5a2b78f8",
   "metadata": {},
   "outputs": [
    {
     "data": {
      "text/plain": [
       "[{'collection': 'coll_0', 'shard': 'shard1', 'size': 369700165},\n",
       " {'collection': 'coll_0', 'shard': 'shard2', 'size': 369120056},\n",
       " {'collection': 'coll_1', 'shard': 'shard1', 'size': 54596115},\n",
       " {'collection': 'coll_1', 'shard': 'shard2', 'size': 54755928}]"
      ]
     },
     "execution_count": 4,
     "metadata": {},
     "output_type": "execute_result"
    }
   ],
   "source": [
    "shards"
   ]
  },
  {
   "cell_type": "code",
   "execution_count": 31,
   "id": "7c6456f8",
   "metadata": {},
   "outputs": [],
   "source": [
    "tmp = shards[0]"
   ]
  },
  {
   "cell_type": "code",
   "execution_count": 32,
   "id": "c36675b0",
   "metadata": {},
   "outputs": [],
   "source": [
    "shards.remove(tmp)"
   ]
  },
  {
   "cell_type": "code",
   "execution_count": 33,
   "id": "3d65f07a",
   "metadata": {},
   "outputs": [
    {
     "data": {
      "text/plain": [
       "[{'collection': 'coll_0', 'shard': 'shard2', 'size': 369120056},\n",
       " {'collection': 'coll_1', 'shard': 'shard1', 'size': 54596115},\n",
       " {'collection': 'coll_1', 'shard': 'shard2', 'size': 54755928}]"
      ]
     },
     "execution_count": 33,
     "metadata": {},
     "output_type": "execute_result"
    }
   ],
   "source": [
    "shards"
   ]
  },
  {
   "cell_type": "code",
   "execution_count": 5,
   "id": "daabfde8",
   "metadata": {},
   "outputs": [
    {
     "data": {
      "text/plain": [
       "[{'used_space': 408300054, 'total_space': 1000000000, 'id': 'nodeA'},\n",
       " {'used_space': 413292226, 'total_space': 1000000000, 'id': 'nodeB'}]"
      ]
     },
     "execution_count": 5,
     "metadata": {},
     "output_type": "execute_result"
    }
   ],
   "source": [
    "\n",
    "nodes"
   ]
  },
  {
   "cell_type": "code",
   "execution_count": 9,
   "id": "49c62fab",
   "metadata": {},
   "outputs": [],
   "source": [
    "a = Shard(**shards[0])"
   ]
  },
  {
   "cell_type": "code",
   "execution_count": 10,
   "id": "1806be5f",
   "metadata": {},
   "outputs": [
    {
     "data": {
      "text/plain": [
       "Shard(collection='coll_0', shard='shard1', size=369700165)"
      ]
     },
     "execution_count": 10,
     "metadata": {},
     "output_type": "execute_result"
    }
   ],
   "source": [
    "a"
   ]
  },
  {
   "cell_type": "code",
   "execution_count": 11,
   "id": "03160b7d",
   "metadata": {},
   "outputs": [],
   "source": [
    "b = Shard(**shards[1])"
   ]
  },
  {
   "cell_type": "code",
   "execution_count": 12,
   "id": "452735c6",
   "metadata": {},
   "outputs": [
    {
     "data": {
      "text/plain": [
       "Shard(collection='coll_0', shard='shard2', size=369120056)"
      ]
     },
     "execution_count": 12,
     "metadata": {},
     "output_type": "execute_result"
    }
   ],
   "source": [
    "b"
   ]
  },
  {
   "cell_type": "code",
   "execution_count": 15,
   "id": "1ed44f8b",
   "metadata": {},
   "outputs": [],
   "source": [
    "test = [a, b]"
   ]
  },
  {
   "cell_type": "code",
   "execution_count": 19,
   "id": "e9efb4ae",
   "metadata": {},
   "outputs": [],
   "source": [
    "test.remove(a)"
   ]
  },
  {
   "cell_type": "code",
   "execution_count": 20,
   "id": "642e7dff",
   "metadata": {},
   "outputs": [
    {
     "data": {
      "text/plain": [
       "[Shard(collection='coll_0', shard='shard2', size=369120056)]"
      ]
     },
     "execution_count": 20,
     "metadata": {},
     "output_type": "execute_result"
    }
   ],
   "source": [
    "test"
   ]
  },
  {
   "cell_type": "code",
   "execution_count": 29,
   "id": "b3732403",
   "metadata": {},
   "outputs": [],
   "source": [
    "b=Node(**nodes[0])"
   ]
  },
  {
   "cell_type": "code",
   "execution_count": 30,
   "id": "20f04a8a",
   "metadata": {},
   "outputs": [
    {
     "data": {
      "text/plain": [
       "Node(id='nodeA', total_space=1000000000, used_space=408300054, available_space=591699946)"
      ]
     },
     "execution_count": 30,
     "metadata": {},
     "output_type": "execute_result"
    }
   ],
   "source": [
    "b"
   ]
  },
  {
   "cell_type": "code",
   "execution_count": 34,
   "id": "ff8e6f5a",
   "metadata": {},
   "outputs": [],
   "source": [
    "from src.assign_shards import BlancedShardAssigner"
   ]
  },
  {
   "cell_type": "code",
   "execution_count": null,
   "id": "3f5026ec",
   "metadata": {},
   "outputs": [],
   "source": []
  }
 ],
 "metadata": {
  "kernelspec": {
   "display_name": "Python 3",
   "language": "python",
   "name": "python3"
  },
  "language_info": {
   "codemirror_mode": {
    "name": "ipython",
    "version": 3
   },
   "file_extension": ".py",
   "mimetype": "text/x-python",
   "name": "python",
   "nbconvert_exporter": "python",
   "pygments_lexer": "ipython3",
   "version": "3.8.8"
  }
 },
 "nbformat": 4,
 "nbformat_minor": 5
}
