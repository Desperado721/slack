{
 "cells": [
  {
   "cell_type": "code",
   "execution_count": 28,
   "id": "2a1383da",
   "metadata": {},
   "outputs": [],
   "source": [
    "import json\n",
    "import argparse\n",
    "import pdb\n",
    "from dataclasses import dataclass, field\n",
    "\n",
    "def load_data(file_name):\n",
    "    with open(file_name) as f:\n",
    "        return json.load(f, encoding='utf-8')\n",
    "\n",
    "@dataclass\n",
    "class Shard(object):\n",
    "#     id: str = field(init=False)\n",
    "    collection: str\n",
    "    shard: str\n",
    "    size: float\n",
    "\n",
    "@dataclass\n",
    "class Node(object):\n",
    "    id: str\n",
    "#     num_id: str = field(init=False)\n",
    "    total_space: float\n",
    "    used_space: float\n",
    "    available_space: float= field(init=False)\n",
    "#     balanced_usage: float= field(init=False)\n",
    "    def __post_init__(self):\n",
    "        \"\"\"\n",
    "        calulate the available spalce of each node\n",
    "        and give id to each shard\n",
    "        \"\"\"\n",
    "        self.available_space = self.total_space - self.used_space"
   ]
  },
  {
   "cell_type": "code",
   "execution_count": 2,
   "id": "8f1fb49b",
   "metadata": {},
   "outputs": [],
   "source": [
    "class blancedShardAssigner(object):\n",
    "    def __init__(self, shards, nodes):\n",
    "        \n",
    "        # shards = [shard.update({'id': str(i)}) for  i, shard in enumerate(shards)]\n",
    "        # nodes = [node.update({'num_id': str(i)}) for  i, node in enumerate(nodes)]\n",
    "        # breakpoint()\n",
    "        self.shards = [Shard(**shard) for shard in shards]\n",
    "        self.nodes = [Node(**node) for node in nodes]\n",
    "        breakpoint()\n",
    "        self.unassigned_shards = set(self.shards)\n",
    "        self.num_collections = len(set([shard['collection'] for shard in shards]))\n",
    "        self.unused_nodes = set(self.nodes)\n",
    "        self.deadnodes = set()\n",
    "        # self.initialize()\n",
    "    "
   ]
  },
  {
   "cell_type": "code",
   "execution_count": 3,
   "id": "5ee2a439",
   "metadata": {},
   "outputs": [],
   "source": [
    "shards = load_data('data/shards.json')\n",
    "nodes = load_data('data/nodes.json')"
   ]
  },
  {
   "cell_type": "code",
   "execution_count": 4,
   "id": "0421d3f1",
   "metadata": {},
   "outputs": [
    {
     "data": {
      "text/plain": [
       "[{'collection': 'coll_0', 'shard': 'shard1', 'size': 369700165},\n",
       " {'collection': 'coll_0', 'shard': 'shard2', 'size': 369120056},\n",
       " {'collection': 'coll_1', 'shard': 'shard1', 'size': 54596115},\n",
       " {'collection': 'coll_1', 'shard': 'shard2', 'size': 54755928}]"
      ]
     },
     "execution_count": 4,
     "metadata": {},
     "output_type": "execute_result"
    }
   ],
   "source": [
    "shards"
   ]
  },
  {
   "cell_type": "code",
   "execution_count": 31,
   "id": "e2b463d3",
   "metadata": {},
   "outputs": [],
   "source": [
    "tmp = shards[0]"
   ]
  },
  {
   "cell_type": "code",
   "execution_count": null,
   "id": "a9ee802a",
   "metadata": {},
   "outputs": [],
   "source": []
  },
  {
   "cell_type": "code",
   "execution_count": 5,
   "id": "1a93fe70",
   "metadata": {},
   "outputs": [
    {
     "data": {
      "text/plain": [
       "[{'used_space': 408300054, 'total_space': 1000000000, 'id': 'nodeA'},\n",
       " {'used_space': 413292226, 'total_space': 1000000000, 'id': 'nodeB'}]"
      ]
     },
     "execution_count": 5,
     "metadata": {},
     "output_type": "execute_result"
    }
   ],
   "source": [
    "\n",
    "nodes"
   ]
  },
  {
   "cell_type": "code",
   "execution_count": 9,
   "id": "1787fb2e",
   "metadata": {},
   "outputs": [],
   "source": [
    "a = Shard(**shards[0])"
   ]
  },
  {
   "cell_type": "code",
   "execution_count": 10,
   "id": "ddd593e1",
   "metadata": {},
   "outputs": [
    {
     "data": {
      "text/plain": [
       "Shard(collection='coll_0', shard='shard1', size=369700165)"
      ]
     },
     "execution_count": 10,
     "metadata": {},
     "output_type": "execute_result"
    }
   ],
   "source": [
    "a"
   ]
  },
  {
   "cell_type": "code",
   "execution_count": 11,
   "id": "4c3588fd",
   "metadata": {},
   "outputs": [],
   "source": [
    "b = Shard(**shards[1])"
   ]
  },
  {
   "cell_type": "code",
   "execution_count": 12,
   "id": "dd2decfc",
   "metadata": {},
   "outputs": [
    {
     "data": {
      "text/plain": [
       "Shard(collection='coll_0', shard='shard2', size=369120056)"
      ]
     },
     "execution_count": 12,
     "metadata": {},
     "output_type": "execute_result"
    }
   ],
   "source": [
    "b"
   ]
  },
  {
   "cell_type": "code",
   "execution_count": 15,
   "id": "086ccf4e",
   "metadata": {},
   "outputs": [],
   "source": [
    "test = [a, b]"
   ]
  },
  {
   "cell_type": "code",
   "execution_count": 19,
   "id": "ff71de85",
   "metadata": {},
   "outputs": [],
   "source": [
    "test.remove(a)"
   ]
  },
  {
   "cell_type": "code",
   "execution_count": 20,
   "id": "d4789250",
   "metadata": {},
   "outputs": [
    {
     "data": {
      "text/plain": [
       "[Shard(collection='coll_0', shard='shard2', size=369120056)]"
      ]
     },
     "execution_count": 20,
     "metadata": {},
     "output_type": "execute_result"
    }
   ],
   "source": [
    "test"
   ]
  },
  {
   "cell_type": "code",
   "execution_count": 29,
   "id": "a3ee5116",
   "metadata": {},
   "outputs": [],
   "source": [
    "b=Node(**nodes[0])"
   ]
  },
  {
   "cell_type": "code",
   "execution_count": 30,
   "id": "6a675446",
   "metadata": {},
   "outputs": [
    {
     "data": {
      "text/plain": [
       "Node(id='nodeA', total_space=1000000000, used_space=408300054, available_space=591699946)"
      ]
     },
     "execution_count": 30,
     "metadata": {},
     "output_type": "execute_result"
    }
   ],
   "source": [
    "b"
   ]
  },
  {
   "cell_type": "code",
   "execution_count": null,
   "id": "1fe63808",
   "metadata": {},
   "outputs": [],
   "source": []
  }
 ],
 "metadata": {
  "kernelspec": {
   "display_name": "Python 3",
   "language": "python",
   "name": "python3"
  },
  "language_info": {
   "codemirror_mode": {
    "name": "ipython",
    "version": 3
   },
   "file_extension": ".py",
   "mimetype": "text/x-python",
   "name": "python",
   "nbconvert_exporter": "python",
   "pygments_lexer": "ipython3",
   "version": "3.8.8"
  }
 },
 "nbformat": 4,
 "nbformat_minor": 5
}
